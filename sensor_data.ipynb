{
 "cells": [
  {
   "cell_type": "code",
   "execution_count": 31,
   "metadata": {},
   "outputs": [],
   "source": [
    "# Libraries\n",
    "import pandas as pd\n",
    "import plotly.express as px\n",
    "from datetime import datetime\n",
    "from darts import TimeSeries\n",
    "from darts.models import ExponentialSmoothing"
   ]
  },
  {
   "cell_type": "code",
   "execution_count": 57,
   "metadata": {},
   "outputs": [
    {
     "data": {
      "text/html": [
       "<div>\n",
       "<style scoped>\n",
       "    .dataframe tbody tr th:only-of-type {\n",
       "        vertical-align: middle;\n",
       "    }\n",
       "\n",
       "    .dataframe tbody tr th {\n",
       "        vertical-align: top;\n",
       "    }\n",
       "\n",
       "    .dataframe thead th {\n",
       "        text-align: right;\n",
       "    }\n",
       "</style>\n",
       "<table border=\"1\" class=\"dataframe\">\n",
       "  <thead>\n",
       "    <tr style=\"text-align: right;\">\n",
       "      <th></th>\n",
       "      <th>time</th>\n",
       "      <th>SensorA</th>\n",
       "      <th>SensorB</th>\n",
       "      <th>SensorC</th>\n",
       "    </tr>\n",
       "  </thead>\n",
       "  <tbody>\n",
       "    <tr>\n",
       "      <th>0</th>\n",
       "      <td>00:00</td>\n",
       "      <td>1.416250</td>\n",
       "      <td>4.219930</td>\n",
       "      <td>3.139646</td>\n",
       "    </tr>\n",
       "    <tr>\n",
       "      <th>1</th>\n",
       "      <td>00:01</td>\n",
       "      <td>3.534439</td>\n",
       "      <td>NaN</td>\n",
       "      <td>3.064088</td>\n",
       "    </tr>\n",
       "    <tr>\n",
       "      <th>2</th>\n",
       "      <td>00:02</td>\n",
       "      <td>5.659733</td>\n",
       "      <td>NaN</td>\n",
       "      <td>2.925565</td>\n",
       "    </tr>\n",
       "    <tr>\n",
       "      <th>3</th>\n",
       "      <td>00:03</td>\n",
       "      <td>5.640167</td>\n",
       "      <td>3.073650</td>\n",
       "      <td>5.381210</td>\n",
       "    </tr>\n",
       "    <tr>\n",
       "      <th>4</th>\n",
       "      <td>00:04</td>\n",
       "      <td>4.454474</td>\n",
       "      <td>1.554044</td>\n",
       "      <td>1.055965</td>\n",
       "    </tr>\n",
       "  </tbody>\n",
       "</table>\n",
       "</div>"
      ],
      "text/plain": [
       "    time   SensorA   SensorB   SensorC\n",
       "0  00:00  1.416250  4.219930  3.139646\n",
       "1  00:01  3.534439       NaN  3.064088\n",
       "2  00:02  5.659733       NaN  2.925565\n",
       "3  00:03  5.640167  3.073650  5.381210\n",
       "4  00:04  4.454474  1.554044  1.055965"
      ]
     },
     "execution_count": 57,
     "metadata": {},
     "output_type": "execute_result"
    }
   ],
   "source": [
    "df=pd.read_csv('sensor_data.csv')\n",
    "df.head()"
   ]
  },
  {
   "cell_type": "markdown",
   "metadata": {},
   "source": [
    "We see this start at midnight and ends 24h later."
   ]
  },
  {
   "cell_type": "code",
   "execution_count": 58,
   "metadata": {},
   "outputs": [
    {
     "data": {
      "text/html": [
       "<div>\n",
       "<style scoped>\n",
       "    .dataframe tbody tr th:only-of-type {\n",
       "        vertical-align: middle;\n",
       "    }\n",
       "\n",
       "    .dataframe tbody tr th {\n",
       "        vertical-align: top;\n",
       "    }\n",
       "\n",
       "    .dataframe thead th {\n",
       "        text-align: right;\n",
       "    }\n",
       "</style>\n",
       "<table border=\"1\" class=\"dataframe\">\n",
       "  <thead>\n",
       "    <tr style=\"text-align: right;\">\n",
       "      <th></th>\n",
       "      <th>time</th>\n",
       "      <th>SensorA</th>\n",
       "      <th>SensorB</th>\n",
       "      <th>SensorC</th>\n",
       "    </tr>\n",
       "  </thead>\n",
       "  <tbody>\n",
       "    <tr>\n",
       "      <th>1435</th>\n",
       "      <td>23:55</td>\n",
       "      <td>8.417096</td>\n",
       "      <td>4.686364</td>\n",
       "      <td>9.014305</td>\n",
       "    </tr>\n",
       "    <tr>\n",
       "      <th>1436</th>\n",
       "      <td>23:56</td>\n",
       "      <td>12.413407</td>\n",
       "      <td>5.709658</td>\n",
       "      <td>7.005713</td>\n",
       "    </tr>\n",
       "    <tr>\n",
       "      <th>1437</th>\n",
       "      <td>23:57</td>\n",
       "      <td>11.400624</td>\n",
       "      <td>7.063344</td>\n",
       "      <td>7.522029</td>\n",
       "    </tr>\n",
       "    <tr>\n",
       "      <th>1438</th>\n",
       "      <td>23:58</td>\n",
       "      <td>9.707463</td>\n",
       "      <td>7.903916</td>\n",
       "      <td>NaN</td>\n",
       "    </tr>\n",
       "    <tr>\n",
       "      <th>1439</th>\n",
       "      <td>23:59</td>\n",
       "      <td>11.220124</td>\n",
       "      <td>8.270642</td>\n",
       "      <td>6.609032</td>\n",
       "    </tr>\n",
       "  </tbody>\n",
       "</table>\n",
       "</div>"
      ],
      "text/plain": [
       "       time    SensorA   SensorB   SensorC\n",
       "1435  23:55   8.417096  4.686364  9.014305\n",
       "1436  23:56  12.413407  5.709658  7.005713\n",
       "1437  23:57  11.400624  7.063344  7.522029\n",
       "1438  23:58   9.707463  7.903916       NaN\n",
       "1439  23:59  11.220124  8.270642  6.609032"
      ]
     },
     "execution_count": 58,
     "metadata": {},
     "output_type": "execute_result"
    }
   ],
   "source": [
    "df.tail()"
   ]
  },
  {
   "cell_type": "code",
   "execution_count": 59,
   "metadata": {},
   "outputs": [
    {
     "name": "stdout",
     "output_type": "stream",
     "text": [
      "<class 'pandas.core.frame.DataFrame'>\n",
      "RangeIndex: 1440 entries, 0 to 1439\n",
      "Data columns (total 4 columns):\n",
      " #   Column   Non-Null Count  Dtype  \n",
      "---  ------   --------------  -----  \n",
      " 0   time     1440 non-null   object \n",
      " 1   SensorA  1303 non-null   float64\n",
      " 2   SensorB  1205 non-null   float64\n",
      " 3   SensorC  1392 non-null   float64\n",
      "dtypes: float64(3), object(1)\n",
      "memory usage: 45.1+ KB\n"
     ]
    }
   ],
   "source": [
    "#Overview\n",
    "df.info()"
   ]
  },
  {
   "cell_type": "markdown",
   "metadata": {},
   "source": [
    "We can see some missing values in each sensor columns.\n",
    "We also have a time column.\n",
    "We can interpret this dataset in different ways. We do not have so much information so we can either say all the sensors are on the same spot and we can do the average of the 3. Or we can treat them individually assuming they are placed on different spots.\n",
    "\n",
    "From the graph we can see the diffrence in measurements for the same time. So We hope those sensors are not based on the same spot...\n",
    "\n",
    "So We will treat only the sensorA."
   ]
  },
  {
   "cell_type": "code",
   "execution_count": 60,
   "metadata": {},
   "outputs": [
    {
     "data": {
      "text/html": [
       "<div>\n",
       "<style scoped>\n",
       "    .dataframe tbody tr th:only-of-type {\n",
       "        vertical-align: middle;\n",
       "    }\n",
       "\n",
       "    .dataframe tbody tr th {\n",
       "        vertical-align: top;\n",
       "    }\n",
       "\n",
       "    .dataframe thead th {\n",
       "        text-align: right;\n",
       "    }\n",
       "</style>\n",
       "<table border=\"1\" class=\"dataframe\">\n",
       "  <thead>\n",
       "    <tr style=\"text-align: right;\">\n",
       "      <th></th>\n",
       "      <th>SensorA</th>\n",
       "      <th>SensorB</th>\n",
       "      <th>SensorC</th>\n",
       "    </tr>\n",
       "  </thead>\n",
       "  <tbody>\n",
       "    <tr>\n",
       "      <th>count</th>\n",
       "      <td>1303.000000</td>\n",
       "      <td>1205.000000</td>\n",
       "      <td>1392.000000</td>\n",
       "    </tr>\n",
       "    <tr>\n",
       "      <th>mean</th>\n",
       "      <td>9.793641</td>\n",
       "      <td>3.215945</td>\n",
       "      <td>8.013604</td>\n",
       "    </tr>\n",
       "    <tr>\n",
       "      <th>std</th>\n",
       "      <td>2.038163</td>\n",
       "      <td>2.843696</td>\n",
       "      <td>2.138642</td>\n",
       "    </tr>\n",
       "    <tr>\n",
       "      <th>min</th>\n",
       "      <td>1.416250</td>\n",
       "      <td>-2.740000</td>\n",
       "      <td>1.055965</td>\n",
       "    </tr>\n",
       "    <tr>\n",
       "      <th>25%</th>\n",
       "      <td>8.466171</td>\n",
       "      <td>1.114624</td>\n",
       "      <td>6.524029</td>\n",
       "    </tr>\n",
       "    <tr>\n",
       "      <th>50%</th>\n",
       "      <td>9.809673</td>\n",
       "      <td>3.210922</td>\n",
       "      <td>8.170571</td>\n",
       "    </tr>\n",
       "    <tr>\n",
       "      <th>75%</th>\n",
       "      <td>11.238712</td>\n",
       "      <td>5.464741</td>\n",
       "      <td>9.618772</td>\n",
       "    </tr>\n",
       "    <tr>\n",
       "      <th>max</th>\n",
       "      <td>18.107463</td>\n",
       "      <td>9.564000</td>\n",
       "      <td>14.307993</td>\n",
       "    </tr>\n",
       "  </tbody>\n",
       "</table>\n",
       "</div>"
      ],
      "text/plain": [
       "           SensorA      SensorB      SensorC\n",
       "count  1303.000000  1205.000000  1392.000000\n",
       "mean      9.793641     3.215945     8.013604\n",
       "std       2.038163     2.843696     2.138642\n",
       "min       1.416250    -2.740000     1.055965\n",
       "25%       8.466171     1.114624     6.524029\n",
       "50%       9.809673     3.210922     8.170571\n",
       "75%      11.238712     5.464741     9.618772\n",
       "max      18.107463     9.564000    14.307993"
      ]
     },
     "execution_count": 60,
     "metadata": {},
     "output_type": "execute_result"
    }
   ],
   "source": [
    "df.describe()"
   ]
  },
  {
   "cell_type": "markdown",
   "metadata": {},
   "source": [
    "To deal with missing values, replacing by the median or mean doest not seem to be a good option. moving average or mean between all the sensors for the same time...maybe..\n"
   ]
  },
  {
   "cell_type": "code",
   "execution_count": 110,
   "metadata": {},
   "outputs": [
    {
     "name": "stdout",
     "output_type": "stream",
     "text": [
      "<class 'pandas.core.frame.DataFrame'>\n",
      "RangeIndex: 1440 entries, 0 to 1439\n",
      "Data columns (total 2 columns):\n",
      " #   Column   Non-Null Count  Dtype  \n",
      "---  ------   --------------  -----  \n",
      " 0   time     1440 non-null   object \n",
      " 1   SensorA  1303 non-null   float64\n",
      "dtypes: float64(1), object(1)\n",
      "memory usage: 22.6+ KB\n"
     ]
    }
   ],
   "source": [
    "sensorA= df.iloc[:,0:2]\n",
    "sensorA.info()"
   ]
  },
  {
   "cell_type": "code",
   "execution_count": 111,
   "metadata": {},
   "outputs": [
    {
     "name": "stderr",
     "output_type": "stream",
     "text": [
      "/tmp/ipykernel_30170/2918355234.py:1: UserWarning: Could not infer format, so each element will be parsed individually, falling back to `dateutil`. To ensure parsing is consistent and as-expected, please specify a format.\n",
      "  sensorA['time']=pd.to_datetime(sensorA['time'])\n"
     ]
    },
    {
     "name": "stdout",
     "output_type": "stream",
     "text": [
      "<class 'pandas.core.frame.DataFrame'>\n",
      "RangeIndex: 1440 entries, 0 to 1439\n",
      "Data columns (total 2 columns):\n",
      " #   Column   Non-Null Count  Dtype         \n",
      "---  ------   --------------  -----         \n",
      " 0   time     1440 non-null   datetime64[ns]\n",
      " 1   SensorA  1303 non-null   float64       \n",
      "dtypes: datetime64[ns](1), float64(1)\n",
      "memory usage: 22.6 KB\n"
     ]
    }
   ],
   "source": [
    "sensorA['time']=pd.to_datetime(sensorA['time'])\n",
    "sensorA.info()"
   ]
  },
  {
   "cell_type": "code",
   "execution_count": 112,
   "metadata": {},
   "outputs": [
    {
     "data": {
      "text/html": [
       "<div>\n",
       "<style scoped>\n",
       "    .dataframe tbody tr th:only-of-type {\n",
       "        vertical-align: middle;\n",
       "    }\n",
       "\n",
       "    .dataframe tbody tr th {\n",
       "        vertical-align: top;\n",
       "    }\n",
       "\n",
       "    .dataframe thead th {\n",
       "        text-align: right;\n",
       "    }\n",
       "</style>\n",
       "<table border=\"1\" class=\"dataframe\">\n",
       "  <thead>\n",
       "    <tr style=\"text-align: right;\">\n",
       "      <th></th>\n",
       "      <th>time</th>\n",
       "      <th>SensorA</th>\n",
       "    </tr>\n",
       "  </thead>\n",
       "  <tbody>\n",
       "    <tr>\n",
       "      <th>0</th>\n",
       "      <td>2024-05-17 00:00:00</td>\n",
       "      <td>1.416250</td>\n",
       "    </tr>\n",
       "    <tr>\n",
       "      <th>1</th>\n",
       "      <td>2024-05-17 00:01:00</td>\n",
       "      <td>3.534439</td>\n",
       "    </tr>\n",
       "    <tr>\n",
       "      <th>2</th>\n",
       "      <td>2024-05-17 00:02:00</td>\n",
       "      <td>5.659733</td>\n",
       "    </tr>\n",
       "    <tr>\n",
       "      <th>3</th>\n",
       "      <td>2024-05-17 00:03:00</td>\n",
       "      <td>5.640167</td>\n",
       "    </tr>\n",
       "    <tr>\n",
       "      <th>4</th>\n",
       "      <td>2024-05-17 00:04:00</td>\n",
       "      <td>4.454474</td>\n",
       "    </tr>\n",
       "    <tr>\n",
       "      <th>...</th>\n",
       "      <td>...</td>\n",
       "      <td>...</td>\n",
       "    </tr>\n",
       "    <tr>\n",
       "      <th>1435</th>\n",
       "      <td>2024-05-17 23:55:00</td>\n",
       "      <td>8.417096</td>\n",
       "    </tr>\n",
       "    <tr>\n",
       "      <th>1436</th>\n",
       "      <td>2024-05-17 23:56:00</td>\n",
       "      <td>12.413407</td>\n",
       "    </tr>\n",
       "    <tr>\n",
       "      <th>1437</th>\n",
       "      <td>2024-05-17 23:57:00</td>\n",
       "      <td>11.400624</td>\n",
       "    </tr>\n",
       "    <tr>\n",
       "      <th>1438</th>\n",
       "      <td>2024-05-17 23:58:00</td>\n",
       "      <td>9.707463</td>\n",
       "    </tr>\n",
       "    <tr>\n",
       "      <th>1439</th>\n",
       "      <td>2024-05-17 23:59:00</td>\n",
       "      <td>11.220124</td>\n",
       "    </tr>\n",
       "  </tbody>\n",
       "</table>\n",
       "<p>1440 rows × 2 columns</p>\n",
       "</div>"
      ],
      "text/plain": [
       "                    time    SensorA\n",
       "0    2024-05-17 00:00:00   1.416250\n",
       "1    2024-05-17 00:01:00   3.534439\n",
       "2    2024-05-17 00:02:00   5.659733\n",
       "3    2024-05-17 00:03:00   5.640167\n",
       "4    2024-05-17 00:04:00   4.454474\n",
       "...                  ...        ...\n",
       "1435 2024-05-17 23:55:00   8.417096\n",
       "1436 2024-05-17 23:56:00  12.413407\n",
       "1437 2024-05-17 23:57:00  11.400624\n",
       "1438 2024-05-17 23:58:00   9.707463\n",
       "1439 2024-05-17 23:59:00  11.220124\n",
       "\n",
       "[1440 rows x 2 columns]"
      ]
     },
     "execution_count": 112,
     "metadata": {},
     "output_type": "execute_result"
    }
   ],
   "source": [
    "sensorA"
   ]
  },
  {
   "cell_type": "markdown",
   "metadata": {},
   "source": [
    "# Datetime "
   ]
  },
  {
   "cell_type": "code",
   "execution_count": 113,
   "metadata": {},
   "outputs": [
    {
     "name": "stdout",
     "output_type": "stream",
     "text": [
      "<class 'pandas.core.frame.DataFrame'>\n",
      "RangeIndex: 1440 entries, 0 to 1439\n",
      "Data columns (total 2 columns):\n",
      " #   Column   Non-Null Count  Dtype         \n",
      "---  ------   --------------  -----         \n",
      " 0   time     1440 non-null   datetime64[ns]\n",
      " 1   SensorA  1303 non-null   float64       \n",
      "dtypes: datetime64[ns](1), float64(1)\n",
      "memory usage: 22.6 KB\n"
     ]
    }
   ],
   "source": [
    "sensorA\n",
    "sensorA.info()"
   ]
  },
  {
   "cell_type": "code",
   "execution_count": 119,
   "metadata": {},
   "outputs": [
    {
     "data": {
      "text/html": [
       "<div>\n",
       "<style scoped>\n",
       "    .dataframe tbody tr th:only-of-type {\n",
       "        vertical-align: middle;\n",
       "    }\n",
       "\n",
       "    .dataframe tbody tr th {\n",
       "        vertical-align: top;\n",
       "    }\n",
       "\n",
       "    .dataframe thead th {\n",
       "        text-align: right;\n",
       "    }\n",
       "</style>\n",
       "<table border=\"1\" class=\"dataframe\">\n",
       "  <thead>\n",
       "    <tr style=\"text-align: right;\">\n",
       "      <th></th>\n",
       "      <th>SensorA</th>\n",
       "    </tr>\n",
       "    <tr>\n",
       "      <th>time</th>\n",
       "      <th></th>\n",
       "    </tr>\n",
       "  </thead>\n",
       "  <tbody>\n",
       "    <tr>\n",
       "      <th>2024-05-17 00:00:00</th>\n",
       "      <td>1.416250</td>\n",
       "    </tr>\n",
       "    <tr>\n",
       "      <th>2024-05-17 00:01:00</th>\n",
       "      <td>3.534439</td>\n",
       "    </tr>\n",
       "    <tr>\n",
       "      <th>2024-05-17 00:02:00</th>\n",
       "      <td>5.659733</td>\n",
       "    </tr>\n",
       "    <tr>\n",
       "      <th>2024-05-17 00:03:00</th>\n",
       "      <td>5.640167</td>\n",
       "    </tr>\n",
       "    <tr>\n",
       "      <th>2024-05-17 00:04:00</th>\n",
       "      <td>4.454474</td>\n",
       "    </tr>\n",
       "    <tr>\n",
       "      <th>...</th>\n",
       "      <td>...</td>\n",
       "    </tr>\n",
       "    <tr>\n",
       "      <th>2024-05-17 23:55:00</th>\n",
       "      <td>8.417096</td>\n",
       "    </tr>\n",
       "    <tr>\n",
       "      <th>2024-05-17 23:56:00</th>\n",
       "      <td>12.413407</td>\n",
       "    </tr>\n",
       "    <tr>\n",
       "      <th>2024-05-17 23:57:00</th>\n",
       "      <td>11.400624</td>\n",
       "    </tr>\n",
       "    <tr>\n",
       "      <th>2024-05-17 23:58:00</th>\n",
       "      <td>9.707463</td>\n",
       "    </tr>\n",
       "    <tr>\n",
       "      <th>2024-05-17 23:59:00</th>\n",
       "      <td>11.220124</td>\n",
       "    </tr>\n",
       "  </tbody>\n",
       "</table>\n",
       "<p>1440 rows × 1 columns</p>\n",
       "</div>"
      ],
      "text/plain": [
       "                       SensorA\n",
       "time                          \n",
       "2024-05-17 00:00:00   1.416250\n",
       "2024-05-17 00:01:00   3.534439\n",
       "2024-05-17 00:02:00   5.659733\n",
       "2024-05-17 00:03:00   5.640167\n",
       "2024-05-17 00:04:00   4.454474\n",
       "...                        ...\n",
       "2024-05-17 23:55:00   8.417096\n",
       "2024-05-17 23:56:00  12.413407\n",
       "2024-05-17 23:57:00  11.400624\n",
       "2024-05-17 23:58:00   9.707463\n",
       "2024-05-17 23:59:00  11.220124\n",
       "\n",
       "[1440 rows x 1 columns]"
      ]
     },
     "execution_count": 119,
     "metadata": {},
     "output_type": "execute_result"
    }
   ],
   "source": [
    "sensorA=sensorA.set_index('time')\n",
    "sensorA"
   ]
  },
  {
   "cell_type": "code",
   "execution_count": 121,
   "metadata": {},
   "outputs": [
    {
     "data": {
      "text/html": [
       "<div>\n",
       "<style scoped>\n",
       "    .dataframe tbody tr th:only-of-type {\n",
       "        vertical-align: middle;\n",
       "    }\n",
       "\n",
       "    .dataframe tbody tr th {\n",
       "        vertical-align: top;\n",
       "    }\n",
       "\n",
       "    .dataframe thead th {\n",
       "        text-align: right;\n",
       "    }\n",
       "</style>\n",
       "<table border=\"1\" class=\"dataframe\">\n",
       "  <thead>\n",
       "    <tr style=\"text-align: right;\">\n",
       "      <th></th>\n",
       "      <th>SensorA</th>\n",
       "    </tr>\n",
       "    <tr>\n",
       "      <th>time</th>\n",
       "      <th></th>\n",
       "    </tr>\n",
       "  </thead>\n",
       "  <tbody>\n",
       "    <tr>\n",
       "      <th>2024-05-17 00:00:00</th>\n",
       "      <td>1.416250</td>\n",
       "    </tr>\n",
       "    <tr>\n",
       "      <th>2024-05-17 00:01:00</th>\n",
       "      <td>3.534439</td>\n",
       "    </tr>\n",
       "    <tr>\n",
       "      <th>2024-05-17 00:02:00</th>\n",
       "      <td>5.659733</td>\n",
       "    </tr>\n",
       "    <tr>\n",
       "      <th>2024-05-17 00:03:00</th>\n",
       "      <td>5.640167</td>\n",
       "    </tr>\n",
       "    <tr>\n",
       "      <th>2024-05-17 00:04:00</th>\n",
       "      <td>4.454474</td>\n",
       "    </tr>\n",
       "    <tr>\n",
       "      <th>...</th>\n",
       "      <td>...</td>\n",
       "    </tr>\n",
       "    <tr>\n",
       "      <th>2024-05-17 23:55:00</th>\n",
       "      <td>8.417096</td>\n",
       "    </tr>\n",
       "    <tr>\n",
       "      <th>2024-05-17 23:56:00</th>\n",
       "      <td>12.413407</td>\n",
       "    </tr>\n",
       "    <tr>\n",
       "      <th>2024-05-17 23:57:00</th>\n",
       "      <td>11.400624</td>\n",
       "    </tr>\n",
       "    <tr>\n",
       "      <th>2024-05-17 23:58:00</th>\n",
       "      <td>9.707463</td>\n",
       "    </tr>\n",
       "    <tr>\n",
       "      <th>2024-05-17 23:59:00</th>\n",
       "      <td>11.220124</td>\n",
       "    </tr>\n",
       "  </tbody>\n",
       "</table>\n",
       "<p>1440 rows × 1 columns</p>\n",
       "</div>"
      ],
      "text/plain": [
       "                       SensorA\n",
       "time                          \n",
       "2024-05-17 00:00:00   1.416250\n",
       "2024-05-17 00:01:00   3.534439\n",
       "2024-05-17 00:02:00   5.659733\n",
       "2024-05-17 00:03:00   5.640167\n",
       "2024-05-17 00:04:00   4.454474\n",
       "...                        ...\n",
       "2024-05-17 23:55:00   8.417096\n",
       "2024-05-17 23:56:00  12.413407\n",
       "2024-05-17 23:57:00  11.400624\n",
       "2024-05-17 23:58:00   9.707463\n",
       "2024-05-17 23:59:00  11.220124\n",
       "\n",
       "[1440 rows x 1 columns]"
      ]
     },
     "execution_count": 121,
     "metadata": {},
     "output_type": "execute_result"
    }
   ],
   "source": [
    "sensorA"
   ]
  },
  {
   "cell_type": "markdown",
   "metadata": {},
   "source": [
    "# Missing Values\n",
    "Base dataset has 1304/1440 non missing values.\n",
    "Doing the moving average is increasing this number.\n",
    "So we will first, delete those lines and then will perform a moving average to smooth this.\n"
   ]
  },
  {
   "cell_type": "code",
   "execution_count": 130,
   "metadata": {},
   "outputs": [
    {
     "name": "stdout",
     "output_type": "stream",
     "text": [
      "<class 'pandas.core.frame.DataFrame'>\n",
      "DatetimeIndex: 1440 entries, 2024-05-17 00:00:00 to 2024-05-17 23:59:00\n",
      "Data columns (total 1 columns):\n",
      " #   Column   Non-Null Count  Dtype  \n",
      "---  ------   --------------  -----  \n",
      " 0   SensorA  1303 non-null   float64\n",
      "dtypes: float64(1)\n",
      "memory usage: 22.5 KB\n"
     ]
    }
   ],
   "source": [
    "sensorA.info()"
   ]
  },
  {
   "cell_type": "code",
   "execution_count": 133,
   "metadata": {},
   "outputs": [
    {
     "name": "stdout",
     "output_type": "stream",
     "text": [
      "<class 'pandas.core.frame.DataFrame'>\n",
      "DatetimeIndex: 1303 entries, 2024-05-17 00:00:00 to 2024-05-17 23:59:00\n",
      "Data columns (total 1 columns):\n",
      " #   Column   Non-Null Count  Dtype  \n",
      "---  ------   --------------  -----  \n",
      " 0   SensorA  1303 non-null   float64\n",
      "dtypes: float64(1)\n",
      "memory usage: 20.4 KB\n"
     ]
    }
   ],
   "source": [
    "sensorA=sensorA.dropna(subset=['SensorA'])\n",
    "sensorA.info()"
   ]
  },
  {
   "cell_type": "code",
   "execution_count": 134,
   "metadata": {},
   "outputs": [
    {
     "data": {
      "text/html": [
       "<div>\n",
       "<style scoped>\n",
       "    .dataframe tbody tr th:only-of-type {\n",
       "        vertical-align: middle;\n",
       "    }\n",
       "\n",
       "    .dataframe tbody tr th {\n",
       "        vertical-align: top;\n",
       "    }\n",
       "\n",
       "    .dataframe thead th {\n",
       "        text-align: right;\n",
       "    }\n",
       "</style>\n",
       "<table border=\"1\" class=\"dataframe\">\n",
       "  <thead>\n",
       "    <tr style=\"text-align: right;\">\n",
       "      <th></th>\n",
       "      <th>SensorA</th>\n",
       "    </tr>\n",
       "    <tr>\n",
       "      <th>time</th>\n",
       "      <th></th>\n",
       "    </tr>\n",
       "  </thead>\n",
       "  <tbody>\n",
       "    <tr>\n",
       "      <th>2024-05-17 00:00:00</th>\n",
       "      <td>NaN</td>\n",
       "    </tr>\n",
       "    <tr>\n",
       "      <th>2024-05-17 00:01:00</th>\n",
       "      <td>2.475345</td>\n",
       "    </tr>\n",
       "    <tr>\n",
       "      <th>2024-05-17 00:02:00</th>\n",
       "      <td>4.597086</td>\n",
       "    </tr>\n",
       "    <tr>\n",
       "      <th>2024-05-17 00:03:00</th>\n",
       "      <td>5.649950</td>\n",
       "    </tr>\n",
       "    <tr>\n",
       "      <th>2024-05-17 00:04:00</th>\n",
       "      <td>5.047320</td>\n",
       "    </tr>\n",
       "    <tr>\n",
       "      <th>...</th>\n",
       "      <td>...</td>\n",
       "    </tr>\n",
       "    <tr>\n",
       "      <th>2024-05-17 23:55:00</th>\n",
       "      <td>9.831608</td>\n",
       "    </tr>\n",
       "    <tr>\n",
       "      <th>2024-05-17 23:56:00</th>\n",
       "      <td>10.415252</td>\n",
       "    </tr>\n",
       "    <tr>\n",
       "      <th>2024-05-17 23:57:00</th>\n",
       "      <td>11.907016</td>\n",
       "    </tr>\n",
       "    <tr>\n",
       "      <th>2024-05-17 23:58:00</th>\n",
       "      <td>10.554043</td>\n",
       "    </tr>\n",
       "    <tr>\n",
       "      <th>2024-05-17 23:59:00</th>\n",
       "      <td>10.463794</td>\n",
       "    </tr>\n",
       "  </tbody>\n",
       "</table>\n",
       "<p>1303 rows × 1 columns</p>\n",
       "</div>"
      ],
      "text/plain": [
       "                       SensorA\n",
       "time                          \n",
       "2024-05-17 00:00:00        NaN\n",
       "2024-05-17 00:01:00   2.475345\n",
       "2024-05-17 00:02:00   4.597086\n",
       "2024-05-17 00:03:00   5.649950\n",
       "2024-05-17 00:04:00   5.047320\n",
       "...                        ...\n",
       "2024-05-17 23:55:00   9.831608\n",
       "2024-05-17 23:56:00  10.415252\n",
       "2024-05-17 23:57:00  11.907016\n",
       "2024-05-17 23:58:00  10.554043\n",
       "2024-05-17 23:59:00  10.463794\n",
       "\n",
       "[1303 rows x 1 columns]"
      ]
     },
     "execution_count": 134,
     "metadata": {},
     "output_type": "execute_result"
    }
   ],
   "source": [
    "sensorA_nonan= sensorA.rolling(2,center=True).mean()\n",
    "\n"
   ]
  },
  {
   "cell_type": "code",
   "execution_count": 136,
   "metadata": {},
   "outputs": [
    {
     "name": "stdout",
     "output_type": "stream",
     "text": [
      "<class 'pandas.core.frame.DataFrame'>\n",
      "DatetimeIndex: 1302 entries, 2024-05-17 00:01:00 to 2024-05-17 23:59:00\n",
      "Data columns (total 1 columns):\n",
      " #   Column   Non-Null Count  Dtype  \n",
      "---  ------   --------------  -----  \n",
      " 0   SensorA  1302 non-null   float64\n",
      "dtypes: float64(1)\n",
      "memory usage: 20.3 KB\n"
     ]
    }
   ],
   "source": [
    "sensor=sensorA_nonan.dropna()\n",
    "sensor.info()"
   ]
  },
  {
   "cell_type": "markdown",
   "metadata": {},
   "source": [
    "# Plots"
   ]
  },
  {
   "cell_type": "code",
   "execution_count": 137,
   "metadata": {},
   "outputs": [
    {
     "data": {
      "text/html": [
       "<div>\n",
       "<style scoped>\n",
       "    .dataframe tbody tr th:only-of-type {\n",
       "        vertical-align: middle;\n",
       "    }\n",
       "\n",
       "    .dataframe tbody tr th {\n",
       "        vertical-align: top;\n",
       "    }\n",
       "\n",
       "    .dataframe thead th {\n",
       "        text-align: right;\n",
       "    }\n",
       "</style>\n",
       "<table border=\"1\" class=\"dataframe\">\n",
       "  <thead>\n",
       "    <tr style=\"text-align: right;\">\n",
       "      <th></th>\n",
       "      <th>SensorA</th>\n",
       "    </tr>\n",
       "    <tr>\n",
       "      <th>time</th>\n",
       "      <th></th>\n",
       "    </tr>\n",
       "  </thead>\n",
       "  <tbody>\n",
       "    <tr>\n",
       "      <th>2024-05-17 00:01:00</th>\n",
       "      <td>2.475345</td>\n",
       "    </tr>\n",
       "    <tr>\n",
       "      <th>2024-05-17 00:02:00</th>\n",
       "      <td>4.597086</td>\n",
       "    </tr>\n",
       "    <tr>\n",
       "      <th>2024-05-17 00:03:00</th>\n",
       "      <td>5.649950</td>\n",
       "    </tr>\n",
       "    <tr>\n",
       "      <th>2024-05-17 00:04:00</th>\n",
       "      <td>5.047320</td>\n",
       "    </tr>\n",
       "    <tr>\n",
       "      <th>2024-05-17 00:05:00</th>\n",
       "      <td>5.167151</td>\n",
       "    </tr>\n",
       "    <tr>\n",
       "      <th>...</th>\n",
       "      <td>...</td>\n",
       "    </tr>\n",
       "    <tr>\n",
       "      <th>2024-05-17 23:55:00</th>\n",
       "      <td>9.831608</td>\n",
       "    </tr>\n",
       "    <tr>\n",
       "      <th>2024-05-17 23:56:00</th>\n",
       "      <td>10.415252</td>\n",
       "    </tr>\n",
       "    <tr>\n",
       "      <th>2024-05-17 23:57:00</th>\n",
       "      <td>11.907016</td>\n",
       "    </tr>\n",
       "    <tr>\n",
       "      <th>2024-05-17 23:58:00</th>\n",
       "      <td>10.554043</td>\n",
       "    </tr>\n",
       "    <tr>\n",
       "      <th>2024-05-17 23:59:00</th>\n",
       "      <td>10.463794</td>\n",
       "    </tr>\n",
       "  </tbody>\n",
       "</table>\n",
       "<p>1302 rows × 1 columns</p>\n",
       "</div>"
      ],
      "text/plain": [
       "                       SensorA\n",
       "time                          \n",
       "2024-05-17 00:01:00   2.475345\n",
       "2024-05-17 00:02:00   4.597086\n",
       "2024-05-17 00:03:00   5.649950\n",
       "2024-05-17 00:04:00   5.047320\n",
       "2024-05-17 00:05:00   5.167151\n",
       "...                        ...\n",
       "2024-05-17 23:55:00   9.831608\n",
       "2024-05-17 23:56:00  10.415252\n",
       "2024-05-17 23:57:00  11.907016\n",
       "2024-05-17 23:58:00  10.554043\n",
       "2024-05-17 23:59:00  10.463794\n",
       "\n",
       "[1302 rows x 1 columns]"
      ]
     },
     "execution_count": 137,
     "metadata": {},
     "output_type": "execute_result"
    }
   ],
   "source": [
    "sensor"
   ]
  },
  {
   "cell_type": "markdown",
   "metadata": {},
   "source": [
    "# Darts\n"
   ]
  },
  {
   "cell_type": "code",
   "execution_count": 139,
   "metadata": {},
   "outputs": [
    {
     "data": {
      "text/html": [
       "<div>\n",
       "<style scoped>\n",
       "    .dataframe tbody tr th:only-of-type {\n",
       "        vertical-align: middle;\n",
       "    }\n",
       "\n",
       "    .dataframe tbody tr th {\n",
       "        vertical-align: top;\n",
       "    }\n",
       "\n",
       "    .dataframe thead th {\n",
       "        text-align: right;\n",
       "    }\n",
       "</style>\n",
       "<table border=\"1\" class=\"dataframe\">\n",
       "  <thead>\n",
       "    <tr style=\"text-align: right;\">\n",
       "      <th></th>\n",
       "      <th>time</th>\n",
       "      <th>SensorA</th>\n",
       "    </tr>\n",
       "  </thead>\n",
       "  <tbody>\n",
       "    <tr>\n",
       "      <th>0</th>\n",
       "      <td>2024-05-17 00:01:00</td>\n",
       "      <td>2.475345</td>\n",
       "    </tr>\n",
       "    <tr>\n",
       "      <th>1</th>\n",
       "      <td>2024-05-17 00:02:00</td>\n",
       "      <td>4.597086</td>\n",
       "    </tr>\n",
       "    <tr>\n",
       "      <th>2</th>\n",
       "      <td>2024-05-17 00:03:00</td>\n",
       "      <td>5.649950</td>\n",
       "    </tr>\n",
       "    <tr>\n",
       "      <th>3</th>\n",
       "      <td>2024-05-17 00:04:00</td>\n",
       "      <td>5.047320</td>\n",
       "    </tr>\n",
       "    <tr>\n",
       "      <th>4</th>\n",
       "      <td>2024-05-17 00:05:00</td>\n",
       "      <td>5.167151</td>\n",
       "    </tr>\n",
       "    <tr>\n",
       "      <th>...</th>\n",
       "      <td>...</td>\n",
       "      <td>...</td>\n",
       "    </tr>\n",
       "    <tr>\n",
       "      <th>1297</th>\n",
       "      <td>2024-05-17 23:55:00</td>\n",
       "      <td>9.831608</td>\n",
       "    </tr>\n",
       "    <tr>\n",
       "      <th>1298</th>\n",
       "      <td>2024-05-17 23:56:00</td>\n",
       "      <td>10.415252</td>\n",
       "    </tr>\n",
       "    <tr>\n",
       "      <th>1299</th>\n",
       "      <td>2024-05-17 23:57:00</td>\n",
       "      <td>11.907016</td>\n",
       "    </tr>\n",
       "    <tr>\n",
       "      <th>1300</th>\n",
       "      <td>2024-05-17 23:58:00</td>\n",
       "      <td>10.554043</td>\n",
       "    </tr>\n",
       "    <tr>\n",
       "      <th>1301</th>\n",
       "      <td>2024-05-17 23:59:00</td>\n",
       "      <td>10.463794</td>\n",
       "    </tr>\n",
       "  </tbody>\n",
       "</table>\n",
       "<p>1302 rows × 2 columns</p>\n",
       "</div>"
      ],
      "text/plain": [
       "                    time    SensorA\n",
       "0    2024-05-17 00:01:00   2.475345\n",
       "1    2024-05-17 00:02:00   4.597086\n",
       "2    2024-05-17 00:03:00   5.649950\n",
       "3    2024-05-17 00:04:00   5.047320\n",
       "4    2024-05-17 00:05:00   5.167151\n",
       "...                  ...        ...\n",
       "1297 2024-05-17 23:55:00   9.831608\n",
       "1298 2024-05-17 23:56:00  10.415252\n",
       "1299 2024-05-17 23:57:00  11.907016\n",
       "1300 2024-05-17 23:58:00  10.554043\n",
       "1301 2024-05-17 23:59:00  10.463794\n",
       "\n",
       "[1302 rows x 2 columns]"
      ]
     },
     "execution_count": 139,
     "metadata": {},
     "output_type": "execute_result"
    }
   ],
   "source": [
    "sensor=sensor.reset_index()\n",
    "sensor"
   ]
  },
  {
   "cell_type": "code",
   "execution_count": 141,
   "metadata": {},
   "outputs": [
    {
     "name": "stderr",
     "output_type": "stream",
     "text": [
      "ValueError: Could not find a unique inferred frequency (not constant). Observed frequencies: {'min', '2min'}. If any of those is the actual frequency, try passing it with `fill_missing_dates=True` and `freq=your_frequency`. For more information about frequency aliases, read https://pandas.pydata.org/pandas-docs/stable/user_guide/timeseries.html#offset-aliases\n"
     ]
    },
    {
     "ename": "ValueError",
     "evalue": "Could not find a unique inferred frequency (not constant). Observed frequencies: {'min', '2min'}. If any of those is the actual frequency, try passing it with `fill_missing_dates=True` and `freq=your_frequency`. For more information about frequency aliases, read https://pandas.pydata.org/pandas-docs/stable/user_guide/timeseries.html#offset-aliases",
     "output_type": "error",
     "traceback": [
      "\u001b[0;31m---------------------------------------------------------------------------\u001b[0m",
      "\u001b[0;31mValueError\u001b[0m                                Traceback (most recent call last)",
      "Cell \u001b[0;32mIn[141], line 1\u001b[0m\n\u001b[0;32m----> 1\u001b[0m series\u001b[38;5;241m=\u001b[39m\u001b[43mTimeSeries\u001b[49m\u001b[38;5;241;43m.\u001b[39;49m\u001b[43mfrom_dataframe\u001b[49m\u001b[43m(\u001b[49m\u001b[43msensor\u001b[49m\u001b[43m,\u001b[49m\u001b[43mtime_col\u001b[49m\u001b[38;5;241;43m=\u001b[39;49m\u001b[38;5;124;43m'\u001b[39;49m\u001b[38;5;124;43mtime\u001b[39;49m\u001b[38;5;124;43m'\u001b[39;49m\u001b[43m,\u001b[49m\u001b[43mfill_missing_dates\u001b[49m\u001b[38;5;241;43m=\u001b[39;49m\u001b[38;5;28;43;01mTrue\u001b[39;49;00m\u001b[43m)\u001b[49m\n",
      "File \u001b[0;32m~/Desktop/ts_project/Time_series_Project1/ts_env/lib/python3.12/site-packages/darts/timeseries.py:744\u001b[0m, in \u001b[0;36mTimeSeries.from_dataframe\u001b[0;34m(cls, df, time_col, value_cols, fill_missing_dates, freq, fillna_value, static_covariates, hierarchy)\u001b[0m\n\u001b[1;32m    735\u001b[0m     series_df\u001b[38;5;241m.\u001b[39mcolumns\u001b[38;5;241m.\u001b[39mname \u001b[38;5;241m=\u001b[39m \u001b[38;5;28;01mNone\u001b[39;00m\n\u001b[1;32m    737\u001b[0m xa \u001b[38;5;241m=\u001b[39m xr\u001b[38;5;241m.\u001b[39mDataArray(\n\u001b[1;32m    738\u001b[0m     series_df\u001b[38;5;241m.\u001b[39mvalues[:, :, np\u001b[38;5;241m.\u001b[39mnewaxis],\n\u001b[1;32m    739\u001b[0m     dims\u001b[38;5;241m=\u001b[39m(time_index\u001b[38;5;241m.\u001b[39mname,) \u001b[38;5;241m+\u001b[39m DIMS[\u001b[38;5;241m-\u001b[39m\u001b[38;5;241m2\u001b[39m:],\n\u001b[1;32m    740\u001b[0m     coords\u001b[38;5;241m=\u001b[39m{time_index\u001b[38;5;241m.\u001b[39mname: time_index, DIMS[\u001b[38;5;241m1\u001b[39m]: series_df\u001b[38;5;241m.\u001b[39mcolumns},\n\u001b[1;32m    741\u001b[0m     attrs\u001b[38;5;241m=\u001b[39m{STATIC_COV_TAG: static_covariates, HIERARCHY_TAG: hierarchy},\n\u001b[1;32m    742\u001b[0m )\n\u001b[0;32m--> 744\u001b[0m \u001b[38;5;28;01mreturn\u001b[39;00m \u001b[38;5;28;43mcls\u001b[39;49m\u001b[38;5;241;43m.\u001b[39;49m\u001b[43mfrom_xarray\u001b[49m\u001b[43m(\u001b[49m\n\u001b[1;32m    745\u001b[0m \u001b[43m    \u001b[49m\u001b[43mxa\u001b[49m\u001b[38;5;241;43m=\u001b[39;49m\u001b[43mxa\u001b[49m\u001b[43m,\u001b[49m\n\u001b[1;32m    746\u001b[0m \u001b[43m    \u001b[49m\u001b[43mfill_missing_dates\u001b[49m\u001b[38;5;241;43m=\u001b[39;49m\u001b[43mfill_missing_dates\u001b[49m\u001b[43m,\u001b[49m\n\u001b[1;32m    747\u001b[0m \u001b[43m    \u001b[49m\u001b[43mfreq\u001b[49m\u001b[38;5;241;43m=\u001b[39;49m\u001b[43mfreq\u001b[49m\u001b[43m,\u001b[49m\n\u001b[1;32m    748\u001b[0m \u001b[43m    \u001b[49m\u001b[43mfillna_value\u001b[49m\u001b[38;5;241;43m=\u001b[39;49m\u001b[43mfillna_value\u001b[49m\u001b[43m,\u001b[49m\n\u001b[1;32m    749\u001b[0m \u001b[43m\u001b[49m\u001b[43m)\u001b[49m\n",
      "File \u001b[0;32m~/Desktop/ts_project/Time_series_Project1/ts_env/lib/python3.12/site-packages/darts/timeseries.py:390\u001b[0m, in \u001b[0;36mTimeSeries.from_xarray\u001b[0;34m(cls, xa, fill_missing_dates, freq, fillna_value)\u001b[0m\n\u001b[1;32m    388\u001b[0m \u001b[38;5;66;03m# optionally fill missing dates; do it only when there is a DatetimeIndex (and not a RangeIndex)\u001b[39;00m\n\u001b[1;32m    389\u001b[0m \u001b[38;5;28;01mif\u001b[39;00m fill_missing_dates:\n\u001b[0;32m--> 390\u001b[0m     xa_ \u001b[38;5;241m=\u001b[39m \u001b[38;5;28;43mcls\u001b[39;49m\u001b[38;5;241;43m.\u001b[39;49m\u001b[43m_fill_missing_dates\u001b[49m\u001b[43m(\u001b[49m\u001b[43mxa\u001b[49m\u001b[43m,\u001b[49m\u001b[43m \u001b[49m\u001b[43mfreq\u001b[49m\u001b[38;5;241;43m=\u001b[39;49m\u001b[43mfreq\u001b[49m\u001b[43m)\u001b[49m\n\u001b[1;32m    391\u001b[0m \u001b[38;5;66;03m# provided index does not have a freq; using the provided freq\u001b[39;00m\n\u001b[1;32m    392\u001b[0m \u001b[38;5;28;01melif\u001b[39;00m (\n\u001b[1;32m    393\u001b[0m     (has_datetime_index \u001b[38;5;129;01mor\u001b[39;00m has_integer_index)\n\u001b[1;32m    394\u001b[0m     \u001b[38;5;129;01mand\u001b[39;00m freq \u001b[38;5;129;01mis\u001b[39;00m \u001b[38;5;129;01mnot\u001b[39;00m \u001b[38;5;28;01mNone\u001b[39;00m\n\u001b[1;32m    395\u001b[0m     \u001b[38;5;129;01mand\u001b[39;00m \u001b[38;5;129;01mnot\u001b[39;00m has_frequency\n\u001b[1;32m    396\u001b[0m ):\n",
      "File \u001b[0;32m~/Desktop/ts_project/Time_series_Project1/ts_env/lib/python3.12/site-packages/darts/timeseries.py:4606\u001b[0m, in \u001b[0;36mTimeSeries._fill_missing_dates\u001b[0;34m(cls, xa, freq)\u001b[0m\n\u001b[1;32m   4597\u001b[0m offset_alias_info \u001b[38;5;241m=\u001b[39m (\n\u001b[1;32m   4598\u001b[0m     (\n\u001b[1;32m   4599\u001b[0m         \u001b[38;5;124m\"\u001b[39m\u001b[38;5;124m For more information about frequency aliases, read \u001b[39m\u001b[38;5;124m\"\u001b[39m\n\u001b[0;32m   (...)\u001b[0m\n\u001b[1;32m   4603\u001b[0m     \u001b[38;5;28;01melse\u001b[39;00m \u001b[38;5;124m\"\u001b[39m\u001b[38;5;124m\"\u001b[39m\n\u001b[1;32m   4604\u001b[0m )\n\u001b[1;32m   4605\u001b[0m \u001b[38;5;28;01mif\u001b[39;00m \u001b[38;5;129;01mnot\u001b[39;00m \u001b[38;5;28mlen\u001b[39m(observed_freqs) \u001b[38;5;241m==\u001b[39m \u001b[38;5;241m1\u001b[39m:\n\u001b[0;32m-> 4606\u001b[0m     \u001b[43mraise_log\u001b[49m\u001b[43m(\u001b[49m\n\u001b[1;32m   4607\u001b[0m \u001b[43m        \u001b[49m\u001b[38;5;167;43;01mValueError\u001b[39;49;00m\u001b[43m(\u001b[49m\n\u001b[1;32m   4608\u001b[0m \u001b[43m            \u001b[49m\u001b[38;5;124;43mf\u001b[39;49m\u001b[38;5;124;43m\"\u001b[39;49m\u001b[38;5;124;43mCould not observe an inferred frequency. An explicit frequency must be evident over a span of \u001b[39;49m\u001b[38;5;124;43m\"\u001b[39;49m\n\u001b[1;32m   4609\u001b[0m \u001b[43m            \u001b[49m\u001b[38;5;124;43mf\u001b[39;49m\u001b[38;5;124;43m\"\u001b[39;49m\u001b[38;5;124;43mat least 3 consecutive time stamps in the input data. \u001b[39;49m\u001b[38;5;132;43;01m{\u001b[39;49;00m\u001b[43moffset_alias_info\u001b[49m\u001b[38;5;132;43;01m}\u001b[39;49;00m\u001b[38;5;124;43m\"\u001b[39;49m\n\u001b[1;32m   4610\u001b[0m \u001b[43m            \u001b[49m\u001b[38;5;28;43;01mif\u001b[39;49;00m\u001b[43m \u001b[49m\u001b[38;5;129;43;01mnot\u001b[39;49;00m\u001b[43m \u001b[49m\u001b[38;5;28;43mlen\u001b[39;49m\u001b[43m(\u001b[49m\u001b[43mobserved_freqs\u001b[49m\u001b[43m)\u001b[49m\n\u001b[1;32m   4611\u001b[0m \u001b[43m            \u001b[49m\u001b[38;5;28;43;01melse\u001b[39;49;00m\u001b[43m \u001b[49m\u001b[38;5;124;43mf\u001b[39;49m\u001b[38;5;124;43m\"\u001b[39;49m\u001b[38;5;124;43mCould not find a unique inferred frequency (not constant). Observed frequencies: \u001b[39;49m\u001b[38;5;124;43m\"\u001b[39;49m\n\u001b[1;32m   4612\u001b[0m \u001b[43m            \u001b[49m\u001b[38;5;124;43mf\u001b[39;49m\u001b[38;5;124;43m\"\u001b[39;49m\u001b[38;5;132;43;01m{\u001b[39;49;00m\u001b[43mobserved_freqs\u001b[49m\u001b[38;5;132;43;01m}\u001b[39;49;00m\u001b[38;5;124;43m. If any of those is the actual frequency, try passing it with \u001b[39;49m\u001b[38;5;124;43m\"\u001b[39;49m\n\u001b[1;32m   4613\u001b[0m \u001b[43m            \u001b[49m\u001b[38;5;124;43mf\u001b[39;49m\u001b[38;5;124;43m\"\u001b[39;49m\u001b[38;5;124;43m`fill_missing_dates=True` and `freq=your_frequency`.\u001b[39;49m\u001b[38;5;132;43;01m{\u001b[39;49;00m\u001b[43moffset_alias_info\u001b[49m\u001b[38;5;132;43;01m}\u001b[39;49;00m\u001b[38;5;124;43m\"\u001b[39;49m\n\u001b[1;32m   4614\u001b[0m \u001b[43m        \u001b[49m\u001b[43m)\u001b[49m\u001b[43m,\u001b[49m\n\u001b[1;32m   4615\u001b[0m \u001b[43m        \u001b[49m\u001b[43mlogger\u001b[49m\u001b[43m,\u001b[49m\n\u001b[1;32m   4616\u001b[0m \u001b[43m    \u001b[49m\u001b[43m)\u001b[49m\n\u001b[1;32m   4618\u001b[0m freq \u001b[38;5;241m=\u001b[39m observed_freqs\u001b[38;5;241m.\u001b[39mpop()\n\u001b[1;32m   4620\u001b[0m \u001b[38;5;28;01mreturn\u001b[39;00m \u001b[38;5;28mcls\u001b[39m\u001b[38;5;241m.\u001b[39m_restore_xarray_from_frequency(sorted_xa, freq)\n",
      "File \u001b[0;32m~/Desktop/ts_project/Time_series_Project1/ts_env/lib/python3.12/site-packages/darts/logging.py:132\u001b[0m, in \u001b[0;36mraise_log\u001b[0;34m(exception, logger)\u001b[0m\n\u001b[1;32m    129\u001b[0m message \u001b[38;5;241m=\u001b[39m \u001b[38;5;28mstr\u001b[39m(exception)\n\u001b[1;32m    130\u001b[0m logger\u001b[38;5;241m.\u001b[39merror(exception_type \u001b[38;5;241m+\u001b[39m \u001b[38;5;124m\"\u001b[39m\u001b[38;5;124m: \u001b[39m\u001b[38;5;124m\"\u001b[39m \u001b[38;5;241m+\u001b[39m message)\n\u001b[0;32m--> 132\u001b[0m \u001b[38;5;28;01mraise\u001b[39;00m exception\n",
      "\u001b[0;31mValueError\u001b[0m: Could not find a unique inferred frequency (not constant). Observed frequencies: {'min', '2min'}. If any of those is the actual frequency, try passing it with `fill_missing_dates=True` and `freq=your_frequency`. For more information about frequency aliases, read https://pandas.pydata.org/pandas-docs/stable/user_guide/timeseries.html#offset-aliases"
     ]
    }
   ],
   "source": [
    "series=TimeSeries.from_dataframe(sensor,time_col='time',fill_missing_dates=True)"
   ]
  },
  {
   "cell_type": "code",
   "execution_count": 8,
   "metadata": {},
   "outputs": [],
   "source": [
    "training, validation= series.split_after(0.85)"
   ]
  },
  {
   "cell_type": "code",
   "execution_count": 9,
   "metadata": {},
   "outputs": [
    {
     "ename": "ValueError",
     "evalue": "seasonal_periods has not been provided and index does not have a known freq. You must provide seasonal_periods",
     "output_type": "error",
     "traceback": [
      "\u001b[0;31m---------------------------------------------------------------------------\u001b[0m",
      "\u001b[0;31mValueError\u001b[0m                                Traceback (most recent call last)",
      "File \u001b[0;32m~/Desktop/ts_project/Time_series_Project1/ts_env/lib/python3.12/site-packages/statsmodels/tsa/holtwinters/model.py:260\u001b[0m, in \u001b[0;36mExponentialSmoothing.__init__\u001b[0;34m(self, endog, trend, damped_trend, seasonal, seasonal_periods, initialization_method, initial_level, initial_trend, initial_seasonal, use_boxcox, bounds, dates, freq, missing)\u001b[0m\n\u001b[1;32m    259\u001b[0m \u001b[38;5;28;01mtry\u001b[39;00m:\n\u001b[0;32m--> 260\u001b[0m     \u001b[38;5;28mself\u001b[39m\u001b[38;5;241m.\u001b[39mseasonal_periods \u001b[38;5;241m=\u001b[39m \u001b[43mfreq_to_period\u001b[49m\u001b[43m(\u001b[49m\u001b[38;5;28;43mself\u001b[39;49m\u001b[38;5;241;43m.\u001b[39;49m\u001b[43m_index_freq\u001b[49m\u001b[43m)\u001b[49m\n\u001b[1;32m    261\u001b[0m \u001b[38;5;28;01mexcept\u001b[39;00m \u001b[38;5;167;01mException\u001b[39;00m:\n",
      "File \u001b[0;32m~/Desktop/ts_project/Time_series_Project1/ts_env/lib/python3.12/site-packages/statsmodels/tsa/tsatools.py:824\u001b[0m, in \u001b[0;36mfreq_to_period\u001b[0;34m(freq)\u001b[0m\n\u001b[1;32m    823\u001b[0m \u001b[38;5;28;01melse\u001b[39;00m:  \u001b[38;5;66;03m# pragma : no cover\u001b[39;00m\n\u001b[0;32m--> 824\u001b[0m     \u001b[38;5;28;01mraise\u001b[39;00m \u001b[38;5;167;01mValueError\u001b[39;00m(\n\u001b[1;32m    825\u001b[0m         \u001b[38;5;124m\"\u001b[39m\u001b[38;5;124mfreq \u001b[39m\u001b[38;5;132;01m{}\u001b[39;00m\u001b[38;5;124m not understood. Please report if you \u001b[39m\u001b[38;5;124m\"\u001b[39m\n\u001b[1;32m    826\u001b[0m         \u001b[38;5;124m\"\u001b[39m\u001b[38;5;124mthink this is in error.\u001b[39m\u001b[38;5;124m\"\u001b[39m\u001b[38;5;241m.\u001b[39mformat(freq)\n\u001b[1;32m    827\u001b[0m     )\n",
      "\u001b[0;31mValueError\u001b[0m: freq MIN not understood. Please report if you think this is in error.",
      "\nDuring handling of the above exception, another exception occurred:\n",
      "\u001b[0;31mValueError\u001b[0m                                Traceback (most recent call last)",
      "Cell \u001b[0;32mIn[9], line 2\u001b[0m\n\u001b[1;32m      1\u001b[0m model\u001b[38;5;241m=\u001b[39m ExponentialSmoothing()\n\u001b[0;32m----> 2\u001b[0m \u001b[43mmodel\u001b[49m\u001b[38;5;241;43m.\u001b[39;49m\u001b[43mfit\u001b[49m\u001b[43m(\u001b[49m\u001b[43mtraining\u001b[49m\u001b[43m)\u001b[49m\n\u001b[1;32m      3\u001b[0m pred\u001b[38;5;241m=\u001b[39mmodel\u001b[38;5;241m.\u001b[39mpredict(\u001b[38;5;28mlen\u001b[39m(validation))\n",
      "File \u001b[0;32m~/Desktop/ts_project/Time_series_Project1/ts_env/lib/python3.12/site-packages/darts/models/forecasting/exponential_smoothing.py:121\u001b[0m, in \u001b[0;36mExponentialSmoothing.fit\u001b[0;34m(self, series)\u001b[0m\n\u001b[1;32m    118\u001b[0m \u001b[38;5;28;01mif\u001b[39;00m \u001b[38;5;28mself\u001b[39m\u001b[38;5;241m.\u001b[39mseasonal_periods \u001b[38;5;129;01mis\u001b[39;00m \u001b[38;5;28;01mNone\u001b[39;00m \u001b[38;5;129;01mand\u001b[39;00m series\u001b[38;5;241m.\u001b[39mhas_range_index:\n\u001b[1;32m    119\u001b[0m     seasonal_periods_param \u001b[38;5;241m=\u001b[39m \u001b[38;5;241m12\u001b[39m\n\u001b[0;32m--> 121\u001b[0m hw_model \u001b[38;5;241m=\u001b[39m \u001b[43mhw\u001b[49m\u001b[38;5;241;43m.\u001b[39;49m\u001b[43mExponentialSmoothing\u001b[49m\u001b[43m(\u001b[49m\n\u001b[1;32m    122\u001b[0m \u001b[43m    \u001b[49m\u001b[43mseries\u001b[49m\u001b[38;5;241;43m.\u001b[39;49m\u001b[43mvalues\u001b[49m\u001b[43m(\u001b[49m\u001b[43mcopy\u001b[49m\u001b[38;5;241;43m=\u001b[39;49m\u001b[38;5;28;43;01mFalse\u001b[39;49;00m\u001b[43m)\u001b[49m\u001b[43m,\u001b[49m\n\u001b[1;32m    123\u001b[0m \u001b[43m    \u001b[49m\u001b[43mtrend\u001b[49m\u001b[38;5;241;43m=\u001b[39;49m\u001b[38;5;28;43mself\u001b[39;49m\u001b[38;5;241;43m.\u001b[39;49m\u001b[43mtrend\u001b[49m\u001b[43m \u001b[49m\u001b[38;5;28;43;01mif\u001b[39;49;00m\u001b[43m \u001b[49m\u001b[38;5;28;43mself\u001b[39;49m\u001b[38;5;241;43m.\u001b[39;49m\u001b[43mtrend\u001b[49m\u001b[43m \u001b[49m\u001b[38;5;129;43;01mis\u001b[39;49;00m\u001b[43m \u001b[49m\u001b[38;5;28;43;01mNone\u001b[39;49;00m\u001b[43m \u001b[49m\u001b[38;5;28;43;01melse\u001b[39;49;00m\u001b[43m \u001b[49m\u001b[38;5;28;43mself\u001b[39;49m\u001b[38;5;241;43m.\u001b[39;49m\u001b[43mtrend\u001b[49m\u001b[38;5;241;43m.\u001b[39;49m\u001b[43mvalue\u001b[49m\u001b[43m,\u001b[49m\n\u001b[1;32m    124\u001b[0m \u001b[43m    \u001b[49m\u001b[43mdamped_trend\u001b[49m\u001b[38;5;241;43m=\u001b[39;49m\u001b[38;5;28;43mself\u001b[39;49m\u001b[38;5;241;43m.\u001b[39;49m\u001b[43mdamped\u001b[49m\u001b[43m,\u001b[49m\n\u001b[1;32m    125\u001b[0m \u001b[43m    \u001b[49m\u001b[43mseasonal\u001b[49m\u001b[38;5;241;43m=\u001b[39;49m\u001b[38;5;28;43mself\u001b[39;49m\u001b[38;5;241;43m.\u001b[39;49m\u001b[43mseasonal\u001b[49m\u001b[43m \u001b[49m\u001b[38;5;28;43;01mif\u001b[39;49;00m\u001b[43m \u001b[49m\u001b[38;5;28;43mself\u001b[39;49m\u001b[38;5;241;43m.\u001b[39;49m\u001b[43mseasonal\u001b[49m\u001b[43m \u001b[49m\u001b[38;5;129;43;01mis\u001b[39;49;00m\u001b[43m \u001b[49m\u001b[38;5;28;43;01mNone\u001b[39;49;00m\u001b[43m \u001b[49m\u001b[38;5;28;43;01melse\u001b[39;49;00m\u001b[43m \u001b[49m\u001b[38;5;28;43mself\u001b[39;49m\u001b[38;5;241;43m.\u001b[39;49m\u001b[43mseasonal\u001b[49m\u001b[38;5;241;43m.\u001b[39;49m\u001b[43mvalue\u001b[49m\u001b[43m,\u001b[49m\n\u001b[1;32m    126\u001b[0m \u001b[43m    \u001b[49m\u001b[43mseasonal_periods\u001b[49m\u001b[38;5;241;43m=\u001b[39;49m\u001b[43mseasonal_periods_param\u001b[49m\u001b[43m,\u001b[49m\n\u001b[1;32m    127\u001b[0m \u001b[43m    \u001b[49m\u001b[43mfreq\u001b[49m\u001b[38;5;241;43m=\u001b[39;49m\u001b[43mseries\u001b[49m\u001b[38;5;241;43m.\u001b[39;49m\u001b[43mfreq\u001b[49m\u001b[43m \u001b[49m\u001b[38;5;28;43;01mif\u001b[39;49;00m\u001b[43m \u001b[49m\u001b[43mseries\u001b[49m\u001b[38;5;241;43m.\u001b[39;49m\u001b[43mhas_datetime_index\u001b[49m\u001b[43m \u001b[49m\u001b[38;5;28;43;01melse\u001b[39;49;00m\u001b[43m \u001b[49m\u001b[38;5;28;43;01mNone\u001b[39;49;00m\u001b[43m,\u001b[49m\n\u001b[1;32m    128\u001b[0m \u001b[43m    \u001b[49m\u001b[43mdates\u001b[49m\u001b[38;5;241;43m=\u001b[39;49m\u001b[43mseries\u001b[49m\u001b[38;5;241;43m.\u001b[39;49m\u001b[43mtime_index\u001b[49m\u001b[43m \u001b[49m\u001b[38;5;28;43;01mif\u001b[39;49;00m\u001b[43m \u001b[49m\u001b[43mseries\u001b[49m\u001b[38;5;241;43m.\u001b[39;49m\u001b[43mhas_datetime_index\u001b[49m\u001b[43m \u001b[49m\u001b[38;5;28;43;01melse\u001b[39;49;00m\u001b[43m \u001b[49m\u001b[38;5;28;43;01mNone\u001b[39;49;00m\u001b[43m,\u001b[49m\n\u001b[1;32m    129\u001b[0m \u001b[43m    \u001b[49m\u001b[38;5;241;43m*\u001b[39;49m\u001b[38;5;241;43m*\u001b[39;49m\u001b[38;5;28;43mself\u001b[39;49m\u001b[38;5;241;43m.\u001b[39;49m\u001b[43mconstructor_kwargs\u001b[49m\n\u001b[1;32m    130\u001b[0m \u001b[43m\u001b[49m\u001b[43m)\u001b[49m\n\u001b[1;32m    131\u001b[0m hw_results \u001b[38;5;241m=\u001b[39m hw_model\u001b[38;5;241m.\u001b[39mfit(\u001b[38;5;241m*\u001b[39m\u001b[38;5;241m*\u001b[39m\u001b[38;5;28mself\u001b[39m\u001b[38;5;241m.\u001b[39mfit_kwargs)\n\u001b[1;32m    132\u001b[0m \u001b[38;5;28mself\u001b[39m\u001b[38;5;241m.\u001b[39mmodel \u001b[38;5;241m=\u001b[39m hw_results\n",
      "File \u001b[0;32m~/Desktop/ts_project/Time_series_Project1/ts_env/lib/python3.12/site-packages/pandas/util/_decorators.py:213\u001b[0m, in \u001b[0;36mdeprecate_kwarg.<locals>._deprecate_kwarg.<locals>.wrapper\u001b[0;34m(*args, **kwargs)\u001b[0m\n\u001b[1;32m    211\u001b[0m         \u001b[38;5;28;01mraise\u001b[39;00m \u001b[38;5;167;01mTypeError\u001b[39;00m(msg)\n\u001b[1;32m    212\u001b[0m     kwargs[new_arg_name] \u001b[38;5;241m=\u001b[39m new_arg_value\n\u001b[0;32m--> 213\u001b[0m \u001b[38;5;28;01mreturn\u001b[39;00m \u001b[43mfunc\u001b[49m\u001b[43m(\u001b[49m\u001b[38;5;241;43m*\u001b[39;49m\u001b[43margs\u001b[49m\u001b[43m,\u001b[49m\u001b[43m \u001b[49m\u001b[38;5;241;43m*\u001b[39;49m\u001b[38;5;241;43m*\u001b[39;49m\u001b[43mkwargs\u001b[49m\u001b[43m)\u001b[49m\n",
      "File \u001b[0;32m~/Desktop/ts_project/Time_series_Project1/ts_env/lib/python3.12/site-packages/statsmodels/tsa/holtwinters/model.py:262\u001b[0m, in \u001b[0;36mExponentialSmoothing.__init__\u001b[0;34m(self, endog, trend, damped_trend, seasonal, seasonal_periods, initialization_method, initial_level, initial_trend, initial_seasonal, use_boxcox, bounds, dates, freq, missing)\u001b[0m\n\u001b[1;32m    260\u001b[0m         \u001b[38;5;28mself\u001b[39m\u001b[38;5;241m.\u001b[39mseasonal_periods \u001b[38;5;241m=\u001b[39m freq_to_period(\u001b[38;5;28mself\u001b[39m\u001b[38;5;241m.\u001b[39m_index_freq)\n\u001b[1;32m    261\u001b[0m     \u001b[38;5;28;01mexcept\u001b[39;00m \u001b[38;5;167;01mException\u001b[39;00m:\n\u001b[0;32m--> 262\u001b[0m         \u001b[38;5;28;01mraise\u001b[39;00m \u001b[38;5;167;01mValueError\u001b[39;00m(\n\u001b[1;32m    263\u001b[0m             \u001b[38;5;124m\"\u001b[39m\u001b[38;5;124mseasonal_periods has not been provided and index \u001b[39m\u001b[38;5;124m\"\u001b[39m\n\u001b[1;32m    264\u001b[0m             \u001b[38;5;124m\"\u001b[39m\u001b[38;5;124mdoes not have a known freq. You must provide \u001b[39m\u001b[38;5;124m\"\u001b[39m\n\u001b[1;32m    265\u001b[0m             \u001b[38;5;124m\"\u001b[39m\u001b[38;5;124mseasonal_periods\u001b[39m\u001b[38;5;124m\"\u001b[39m\n\u001b[1;32m    266\u001b[0m         )\n\u001b[1;32m    267\u001b[0m \u001b[38;5;28;01mif\u001b[39;00m \u001b[38;5;28mself\u001b[39m\u001b[38;5;241m.\u001b[39mseasonal_periods \u001b[38;5;241m<\u001b[39m\u001b[38;5;241m=\u001b[39m \u001b[38;5;241m1\u001b[39m:\n\u001b[1;32m    268\u001b[0m     \u001b[38;5;28;01mraise\u001b[39;00m \u001b[38;5;167;01mValueError\u001b[39;00m(\u001b[38;5;124m\"\u001b[39m\u001b[38;5;124mseasonal_periods must be larger than 1.\u001b[39m\u001b[38;5;124m\"\u001b[39m)\n",
      "\u001b[0;31mValueError\u001b[0m: seasonal_periods has not been provided and index does not have a known freq. You must provide seasonal_periods"
     ]
    }
   ],
   "source": [
    "model= ExponentialSmoothing()\n",
    "model.fit(training)\n",
    "pred=model.predict(len(validation))\n"
   ]
  },
  {
   "cell_type": "code",
   "execution_count": null,
   "metadata": {},
   "outputs": [],
   "source": []
  }
 ],
 "metadata": {
  "kernelspec": {
   "display_name": "ts_env",
   "language": "python",
   "name": "python3"
  },
  "language_info": {
   "codemirror_mode": {
    "name": "ipython",
    "version": 3
   },
   "file_extension": ".py",
   "mimetype": "text/x-python",
   "name": "python",
   "nbconvert_exporter": "python",
   "pygments_lexer": "ipython3",
   "version": "3.12.3"
  }
 },
 "nbformat": 4,
 "nbformat_minor": 2
}
